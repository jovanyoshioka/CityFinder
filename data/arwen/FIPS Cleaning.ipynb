{
 "cells": [
  {
   "cell_type": "code",
   "execution_count": null,
   "id": "ec1eda84",
   "metadata": {},
   "outputs": [],
   "source": [
    "import pandas as pd"
   ]
  },
  {
   "cell_type": "code",
   "execution_count": null,
   "id": "6a7054b3",
   "metadata": {},
   "outputs": [],
   "source": [
    "#read in csv"
   ]
  },
  {
   "cell_type": "code",
   "execution_count": null,
   "id": "31a0cb63",
   "metadata": {},
   "outputs": [],
   "source": [
    "#run this cell\n",
    "def add_char(string, char, position): \n",
    "    # Convert the string to a list of characters \n",
    "    string_list = list(string) \n",
    "     \n",
    "    # Insert the character at the specified position \n",
    "    string_list.insert(position, str(char)) \n",
    "    \n",
    "    # Join the list back into a string \n",
    "    new_string = \"\".join(string_list)\n",
    "     \n",
    "    return new_string "
   ]
  },
  {
   "cell_type": "code",
   "execution_count": null,
   "id": "90040288",
   "metadata": {},
   "outputs": [],
   "source": [
    "#state\n",
    "for i in range(len(taxes.STATEFIPS)): \n",
    "    if len(taxes.STATEFIPS[i]) != 2:\n",
    "        \n",
    "        taxes.STATEFIPS[i] = add_char(taxes.STATEFIPS[i],0,0)\n",
    "        \n",
    "    else: \n",
    "        taxes.STATEFIPS[i] = taxes.STATEFIPS[i]"
   ]
  },
  {
   "cell_type": "code",
   "execution_count": null,
   "id": "dedb13ae",
   "metadata": {},
   "outputs": [],
   "source": [
    "#county\n",
    "for i in range(len(taxes.COUNTYFIPS)):\n",
    "    if len(taxes.COUNTYFIPS[i]) == 1:\n",
    "        taxes.COUNTYFIPS[i] = add_char(taxes.COUNTYFIPS[i],0,0)\n",
    "        taxes.COUNTYFIPS[i] = add_char(taxes.COUNTYFIPS[i],0,0)\n",
    "    elif len(taxes.COUNTYFIPS[i]) == 2: \n",
    "        taxes.COUNTYFIPS[i] = add_char(taxes.COUNTYFIPS[i],0,0)\n",
    "    else:\n",
    "        taxes.COUNTYFIPS[i] = taxes.COUNTYFIPS[i]"
   ]
  }
 ],
 "metadata": {
  "kernelspec": {
   "display_name": "Python 3 (ipykernel)",
   "language": "python",
   "name": "python3"
  },
  "language_info": {
   "codemirror_mode": {
    "name": "ipython",
    "version": 3
   },
   "file_extension": ".py",
   "mimetype": "text/x-python",
   "name": "python",
   "nbconvert_exporter": "python",
   "pygments_lexer": "ipython3",
   "version": "3.9.13"
  }
 },
 "nbformat": 4,
 "nbformat_minor": 5
}
