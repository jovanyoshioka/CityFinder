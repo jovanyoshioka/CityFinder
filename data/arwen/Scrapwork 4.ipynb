{
 "cells": [
  {
   "cell_type": "markdown",
   "id": "71a29e0f",
   "metadata": {},
   "source": []
  },
  {
   "cell_type": "code",
   "execution_count": 1,
   "id": "adaf73bc",
   "metadata": {},
   "outputs": [],
   "source": [
    "import pandas as pd\n",
    "import numpy as np"
   ]
  },
  {
   "cell_type": "code",
   "execution_count": null,
   "id": "1c38dcd6",
   "metadata": {},
   "outputs": [],
   "source": [
    "states = pd.read_csv(\"states.csv\")\n",
    "for i in range(len(states.State)):\n",
    "    states.State[i] = states.State[i].upper()\n",
    "#map(lambda x : states.State[x].upper(), states.State)\n",
    "#states[\"State\"] = lambda x : states.State[x].upper()\n",
    "states.head(5)"
   ]
  },
  {
   "cell_type": "code",
   "execution_count": null,
   "id": "5115b988",
   "metadata": {},
   "outputs": [],
   "source": [
    "schools = states.merge(schools, on=\"State\", how=\"right\")\n",
    "schools"
   ]
  },
  {
   "cell_type": "code",
   "execution_count": null,
   "id": "3e2b09a6",
   "metadata": {},
   "outputs": [],
   "source": [
    "converter = pd.read_csv(\"state_and_county_fips_arwen.csv\")\n",
    "converter[\"c\"] = converter[\"state\"] + converter[\"county\"]\n",
    "schools[\"c\"] = schools[\"Abbreviation\"] + schools[\"LEANM\"]"
   ]
  },
  {
   "cell_type": "code",
   "execution_count": null,
   "id": "684ff129",
   "metadata": {},
   "outputs": [],
   "source": [
    "converter.dtypes\n",
    "schools.dtypes\n",
    "schools = converter.merge(schools, on=\"c\", how=\"right\")\n",
    "sum(schools.fips.isna())\n",
    "mask = pd.notna(schools[\"fips\"])\n",
    "cleaned = schools[mask]\n",
    "\n",
    "cleaned\n"
   ]
  },
  {
   "cell_type": "code",
   "execution_count": null,
   "id": "c7ec12f3",
   "metadata": {},
   "outputs": [],
   "source": [
    "practice = schools.merge(con, on=\"NCESSCH\", how=\"left\")\n",
    "practice"
   ]
  },
  {
   "cell_type": "code",
   "execution_count": null,
   "id": "8aacedc9",
   "metadata": {},
   "outputs": [],
   "source": [
    "trying = hosp[hosp[\"Hospital overall rating\"]!=\"Not Available\"]\n",
    "for i in range(len(trying[\"Hospital overall rating\"])):\n",
    "    trying[\"Hospital overall rating\"][i].as\n"
   ]
  },
  {
   "cell_type": "code",
   "execution_count": null,
   "id": "41eff39c",
   "metadata": {},
   "outputs": [],
   "source": []
  },
  {
   "cell_type": "code",
   "execution_count": null,
   "id": "39b4f4e3",
   "metadata": {},
   "outputs": [],
   "source": []
  },
  {
   "cell_type": "code",
   "execution_count": null,
   "id": "4ffd169b",
   "metadata": {},
   "outputs": [],
   "source": []
  },
  {
   "cell_type": "code",
   "execution_count": null,
   "id": "02314cf1",
   "metadata": {},
   "outputs": [],
   "source": []
  },
  {
   "cell_type": "code",
   "execution_count": null,
   "id": "a5395c04",
   "metadata": {},
   "outputs": [],
   "source": []
  },
  {
   "cell_type": "code",
   "execution_count": null,
   "id": "99ca4e1d",
   "metadata": {},
   "outputs": [],
   "source": []
  },
  {
   "cell_type": "code",
   "execution_count": null,
   "id": "df687995",
   "metadata": {},
   "outputs": [],
   "source": []
  }
 ],
 "metadata": {
  "kernelspec": {
   "display_name": "Python 3 (ipykernel)",
   "language": "python",
   "name": "python3"
  },
  "language_info": {
   "codemirror_mode": {
    "name": "ipython",
    "version": 3
   },
   "file_extension": ".py",
   "mimetype": "text/x-python",
   "name": "python",
   "nbconvert_exporter": "python",
   "pygments_lexer": "ipython3",
   "version": "3.9.13"
  }
 },
 "nbformat": 4,
 "nbformat_minor": 5
}
