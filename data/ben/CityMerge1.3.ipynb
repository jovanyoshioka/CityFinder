{
 "cells": [
  {
   "cell_type": "code",
   "execution_count": 1,
   "id": "9066cb20",
   "metadata": {},
   "outputs": [],
   "source": [
    "import numpy as np\n",
    "import pandas as pd\n",
    "import matplotlib.pyplot as plt\n",
    "import os"
   ]
  },
  {
   "cell_type": "code",
   "execution_count": 2,
   "id": "e0fbe59f",
   "metadata": {},
   "outputs": [
    {
     "data": {
      "text/plain": [
       "(3898, 79)"
      ]
     },
     "execution_count": 2,
     "metadata": {},
     "output_type": "execute_result"
    }
   ],
   "source": [
    "CityMv3 = pd.read_csv('CityMaster1.2.csv', converters={'FIPS': str})\n",
    "CityMv3.shape\n",
    "# CityMv3.columns"
   ]
  },
  {
   "cell_type": "code",
   "execution_count": 3,
   "id": "4939b6a6",
   "metadata": {},
   "outputs": [],
   "source": [
    "CityMv3['FIPS_2digit'] = CityMv3['FIPS'].str[:2]\n",
    "\n",
    "# # Calculate value counts for the first two digits\n",
    "# value_counts = CityMv3['FIPS_2digit'].value_counts()\n",
    "\n",
    "# # Loop through each unique pair of first two digits and print their counts\n",
    "# for fips_prefix, count in value_counts.items():\n",
    "#     print(f\"FIPS Prefix: {fips_prefix}, Count: {count}\")"
   ]
  },
  {
   "cell_type": "code",
   "execution_count": 4,
   "id": "cc609b54",
   "metadata": {},
   "outputs": [
    {
     "data": {
      "text/plain": [
       "(3898, 80)"
      ]
     },
     "execution_count": 4,
     "metadata": {},
     "output_type": "execute_result"
    }
   ],
   "source": [
    "# make contiguous US only\n",
    "codes = pd.read_excel('FIPS.xlsx', converters={'Numeric code': str})\n",
    "\n",
    "# make list of 'Numeric code' where 'Status' does not contain \"State\"\n",
    "# in CityMv3, drop rows where 'FIPS_2digit' macthes any element from the above list\n",
    "\n",
    "non_state_fips = codes.loc[codes['Status'] != \"State\", 'Numeric code'].tolist()\n",
    "\n",
    "CityMv3_contiguous = CityMv3[~CityMv3['FIPS_2digit'].isin(non_state_fips)]\n",
    "\n",
    "# drop Alaska (02) and Hawaii (15)\n",
    "CityMv3_contiguous = CityMv3[~CityMv3['FIPS_2digit'].isin(['02', '15'])]\n",
    "\n",
    "CityMv3.shape"
   ]
  },
  {
   "cell_type": "code",
   "execution_count": 5,
   "id": "8d0de023",
   "metadata": {},
   "outputs": [],
   "source": [
    "# map county data to cities\n",
    "\n",
    "# create City_Dummy where 0 if City_Pop is 0 or null and 1 otherwise\n",
    "# for all null columns in rows with City_Dummy, map data from the overlying county (row with FIPS equal to the first 5 digits of the city row)\n",
    "\n",
    "# create a sub df that only contains cities but keep the df with both cities and counties as well\n",
    "\n",
    "\n",
    "CityMv3['City_Dummy'] = np.where((CityMv3['City_Pop'] == 0) | pd.isnull(CityMv3['City_Pop']), 0, 1)"
   ]
  },
  {
   "cell_type": "code",
   "execution_count": 6,
   "id": "b1183bce",
   "metadata": {},
   "outputs": [],
   "source": [
    "# Iterate through each row\n",
    "for index, row in CityMv3.iterrows():\n",
    "    if row['City_Dummy'] == 1:  # It's a city row\n",
    "        county_fips = row['FIPS'][:5]\n",
    "        county_row = CityMv3[CityMv3['FIPS'] == county_fips]  # Get the corresponding county row\n",
    "        # Now, for each column that is null in the city row, fill it with data from the county row\n",
    "        for col in CityMv3.columns:\n",
    "            if pd.isnull(row[col]):\n",
    "                # Assuming there's exactly one county row matching the FIPS, so we use .iloc[0]\n",
    "                CityMv3.at[index, col] = county_row[col].iloc[0] if not county_row.empty else row[col]"
   ]
  },
  {
   "cell_type": "code",
   "execution_count": 7,
   "id": "74e980e2",
   "metadata": {},
   "outputs": [],
   "source": [
    "CityMv3_cities_only = CityMv3[CityMv3['City_Dummy'] == 1]"
   ]
  },
  {
   "cell_type": "code",
   "execution_count": 8,
   "id": "41b7342d",
   "metadata": {},
   "outputs": [
    {
     "data": {
      "text/plain": [
       "(93, 81)"
      ]
     },
     "execution_count": 8,
     "metadata": {},
     "output_type": "execute_result"
    }
   ],
   "source": [
    "CityMv3_cities_only.shape"
   ]
  },
  {
   "cell_type": "code",
   "execution_count": 9,
   "id": "b4095c2f",
   "metadata": {},
   "outputs": [],
   "source": [
    "CityMv3.to_csv('CityMaster1.3.csv')"
   ]
  },
  {
   "cell_type": "code",
   "execution_count": null,
   "id": "bb19325c",
   "metadata": {},
   "outputs": [],
   "source": []
  }
 ],
 "metadata": {
  "kernelspec": {
   "display_name": "Python 3 (ipykernel)",
   "language": "python",
   "name": "python3"
  },
  "language_info": {
   "codemirror_mode": {
    "name": "ipython",
    "version": 3
   },
   "file_extension": ".py",
   "mimetype": "text/x-python",
   "name": "python",
   "nbconvert_exporter": "python",
   "pygments_lexer": "ipython3",
   "version": "3.9.18"
  }
 },
 "nbformat": 4,
 "nbformat_minor": 5
}
