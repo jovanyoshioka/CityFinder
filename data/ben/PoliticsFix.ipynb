{
 "cells": [
  {
   "cell_type": "code",
   "execution_count": 1,
   "id": "0518d102",
   "metadata": {},
   "outputs": [],
   "source": [
    "import numpy as np\n",
    "import pandas as pd\n",
    "import matplotlib.pyplot as plt\n",
    "import os"
   ]
  },
  {
   "cell_type": "code",
   "execution_count": 2,
   "id": "169dbdec",
   "metadata": {},
   "outputs": [],
   "source": [
    "poli = pd.read_csv('C:/Users/benja/OneDrive - University of Tennessee/DATA_499/data/countypres_2000-2020.csv', converters={'county_fips': str})"
   ]
  },
  {
   "cell_type": "code",
   "execution_count": 3,
   "id": "a9357a78",
   "metadata": {},
   "outputs": [
    {
     "data": {
      "text/plain": [
       "Index(['year', 'state', 'state_po', 'county_name', 'county_fips', 'office',\n",
       "       'candidate', 'party', 'candidatevotes', 'totalvotes', 'version',\n",
       "       'mode'],\n",
       "      dtype='object')"
      ]
     },
     "execution_count": 3,
     "metadata": {},
     "output_type": "execute_result"
    }
   ],
   "source": [
    "poli.columns"
   ]
  },
  {
   "cell_type": "code",
   "execution_count": 4,
   "id": "d6903432",
   "metadata": {},
   "outputs": [
    {
     "data": {
      "text/html": [
       "<div>\n",
       "<style scoped>\n",
       "    .dataframe tbody tr th:only-of-type {\n",
       "        vertical-align: middle;\n",
       "    }\n",
       "\n",
       "    .dataframe tbody tr th {\n",
       "        vertical-align: top;\n",
       "    }\n",
       "\n",
       "    .dataframe thead th {\n",
       "        text-align: right;\n",
       "    }\n",
       "</style>\n",
       "<table border=\"1\" class=\"dataframe\">\n",
       "  <thead>\n",
       "    <tr style=\"text-align: right;\">\n",
       "      <th></th>\n",
       "      <th>year</th>\n",
       "      <th>state</th>\n",
       "      <th>state_po</th>\n",
       "      <th>county_name</th>\n",
       "      <th>county_fips</th>\n",
       "      <th>office</th>\n",
       "      <th>candidate</th>\n",
       "      <th>party</th>\n",
       "      <th>candidatevotes</th>\n",
       "      <th>totalvotes</th>\n",
       "      <th>version</th>\n",
       "      <th>mode</th>\n",
       "    </tr>\n",
       "  </thead>\n",
       "  <tbody>\n",
       "    <tr>\n",
       "      <th>0</th>\n",
       "      <td>2000</td>\n",
       "      <td>ALABAMA</td>\n",
       "      <td>AL</td>\n",
       "      <td>AUTAUGA</td>\n",
       "      <td>1001</td>\n",
       "      <td>US PRESIDENT</td>\n",
       "      <td>AL GORE</td>\n",
       "      <td>DEMOCRAT</td>\n",
       "      <td>4942</td>\n",
       "      <td>17208</td>\n",
       "      <td>20220315</td>\n",
       "      <td>TOTAL</td>\n",
       "    </tr>\n",
       "    <tr>\n",
       "      <th>1</th>\n",
       "      <td>2000</td>\n",
       "      <td>ALABAMA</td>\n",
       "      <td>AL</td>\n",
       "      <td>AUTAUGA</td>\n",
       "      <td>1001</td>\n",
       "      <td>US PRESIDENT</td>\n",
       "      <td>GEORGE W. BUSH</td>\n",
       "      <td>REPUBLICAN</td>\n",
       "      <td>11993</td>\n",
       "      <td>17208</td>\n",
       "      <td>20220315</td>\n",
       "      <td>TOTAL</td>\n",
       "    </tr>\n",
       "    <tr>\n",
       "      <th>2</th>\n",
       "      <td>2000</td>\n",
       "      <td>ALABAMA</td>\n",
       "      <td>AL</td>\n",
       "      <td>AUTAUGA</td>\n",
       "      <td>1001</td>\n",
       "      <td>US PRESIDENT</td>\n",
       "      <td>RALPH NADER</td>\n",
       "      <td>GREEN</td>\n",
       "      <td>160</td>\n",
       "      <td>17208</td>\n",
       "      <td>20220315</td>\n",
       "      <td>TOTAL</td>\n",
       "    </tr>\n",
       "    <tr>\n",
       "      <th>3</th>\n",
       "      <td>2000</td>\n",
       "      <td>ALABAMA</td>\n",
       "      <td>AL</td>\n",
       "      <td>AUTAUGA</td>\n",
       "      <td>1001</td>\n",
       "      <td>US PRESIDENT</td>\n",
       "      <td>OTHER</td>\n",
       "      <td>OTHER</td>\n",
       "      <td>113</td>\n",
       "      <td>17208</td>\n",
       "      <td>20220315</td>\n",
       "      <td>TOTAL</td>\n",
       "    </tr>\n",
       "    <tr>\n",
       "      <th>4</th>\n",
       "      <td>2000</td>\n",
       "      <td>ALABAMA</td>\n",
       "      <td>AL</td>\n",
       "      <td>BALDWIN</td>\n",
       "      <td>1003</td>\n",
       "      <td>US PRESIDENT</td>\n",
       "      <td>AL GORE</td>\n",
       "      <td>DEMOCRAT</td>\n",
       "      <td>13997</td>\n",
       "      <td>56480</td>\n",
       "      <td>20220315</td>\n",
       "      <td>TOTAL</td>\n",
       "    </tr>\n",
       "  </tbody>\n",
       "</table>\n",
       "</div>"
      ],
      "text/plain": [
       "   year    state state_po county_name county_fips        office  \\\n",
       "0  2000  ALABAMA       AL     AUTAUGA        1001  US PRESIDENT   \n",
       "1  2000  ALABAMA       AL     AUTAUGA        1001  US PRESIDENT   \n",
       "2  2000  ALABAMA       AL     AUTAUGA        1001  US PRESIDENT   \n",
       "3  2000  ALABAMA       AL     AUTAUGA        1001  US PRESIDENT   \n",
       "4  2000  ALABAMA       AL     BALDWIN        1003  US PRESIDENT   \n",
       "\n",
       "        candidate       party  candidatevotes  totalvotes   version   mode  \n",
       "0         AL GORE    DEMOCRAT            4942       17208  20220315  TOTAL  \n",
       "1  GEORGE W. BUSH  REPUBLICAN           11993       17208  20220315  TOTAL  \n",
       "2     RALPH NADER       GREEN             160       17208  20220315  TOTAL  \n",
       "3           OTHER       OTHER             113       17208  20220315  TOTAL  \n",
       "4         AL GORE    DEMOCRAT           13997       56480  20220315  TOTAL  "
      ]
     },
     "execution_count": 4,
     "metadata": {},
     "output_type": "execute_result"
    }
   ],
   "source": [
    "poli.head()"
   ]
  },
  {
   "cell_type": "code",
   "execution_count": 5,
   "id": "431e618e",
   "metadata": {},
   "outputs": [],
   "source": [
    "poli = poli.drop(columns={'state', 'state_po', 'county_name', 'office',\n",
    "       'candidate', 'totalvotes', 'version',\n",
    "       'mode'})"
   ]
  },
  {
   "cell_type": "code",
   "execution_count": 6,
   "id": "0a6ab8a1",
   "metadata": {},
   "outputs": [],
   "source": [
    "poli['county_fips'] = poli['county_fips'].apply(lambda x: str(x).zfill(5))"
   ]
  },
  {
   "cell_type": "code",
   "execution_count": 7,
   "id": "c903018d",
   "metadata": {},
   "outputs": [],
   "source": [
    "poli = poli.rename(columns={'county_fips': 'FIPS'})"
   ]
  },
  {
   "cell_type": "code",
   "execution_count": 8,
   "id": "442c8f06",
   "metadata": {},
   "outputs": [],
   "source": [
    "# Step 1: Calculate the maximum candidatevotes for each group of 'year' and 'FIPS'\n",
    "max_votes = poli.groupby(['year', 'FIPS'])['candidatevotes'].max().reset_index()\n",
    "\n",
    "# Step 2: Merge this information back to the original DataFrame to filter rows\n",
    "# This operation joins the original DataFrame with the max_votes DataFrame on the specified keys and 'candidatevotes',\n",
    "# effectively filtering the original DataFrame to only include rows with maximum votes.\n",
    "poli_max_votes = poli.merge(max_votes, on=['year', 'FIPS', 'candidatevotes'])"
   ]
  },
  {
   "cell_type": "code",
   "execution_count": 9,
   "id": "0c755f6c",
   "metadata": {},
   "outputs": [
    {
     "data": {
      "text/plain": [
       "(18975, 4)"
      ]
     },
     "execution_count": 9,
     "metadata": {},
     "output_type": "execute_result"
    }
   ],
   "source": [
    "poli_max_votes.shape"
   ]
  },
  {
   "cell_type": "code",
   "execution_count": 10,
   "id": "4b324d61",
   "metadata": {},
   "outputs": [],
   "source": [
    "poli_max_votes = poli_max_votes[(poli_max_votes['year'] == 2012) | (poli_max_votes['year'] == 2016) | (poli_max_votes['year'] == 2020)]"
   ]
  },
  {
   "cell_type": "code",
   "execution_count": 11,
   "id": "eb74b82c",
   "metadata": {},
   "outputs": [],
   "source": [
    "# Dropping duplicate entries, keeping the first occurrence\n",
    "poli_max_votes_unique = poli_max_votes.drop_duplicates(subset=['year', 'FIPS'])\n",
    "\n",
    "# Now, try to pivot again\n",
    "df_pivoted = poli_max_votes_unique.pivot(index='FIPS', columns='year', values='party')\n",
    "df_pivoted.columns = [f'PresW_{col}' for col in df_pivoted.columns]\n",
    "df_pivoted.reset_index(inplace=True)"
   ]
  },
  {
   "cell_type": "code",
   "execution_count": 12,
   "id": "0ef775c4",
   "metadata": {},
   "outputs": [
    {
     "data": {
      "text/html": [
       "<div>\n",
       "<style scoped>\n",
       "    .dataframe tbody tr th:only-of-type {\n",
       "        vertical-align: middle;\n",
       "    }\n",
       "\n",
       "    .dataframe tbody tr th {\n",
       "        vertical-align: top;\n",
       "    }\n",
       "\n",
       "    .dataframe thead th {\n",
       "        text-align: right;\n",
       "    }\n",
       "</style>\n",
       "<table border=\"1\" class=\"dataframe\">\n",
       "  <thead>\n",
       "    <tr style=\"text-align: right;\">\n",
       "      <th></th>\n",
       "      <th>FIPS</th>\n",
       "      <th>PresW_2012</th>\n",
       "      <th>PresW_2016</th>\n",
       "      <th>PresW_2020</th>\n",
       "    </tr>\n",
       "  </thead>\n",
       "  <tbody>\n",
       "    <tr>\n",
       "      <th>0</th>\n",
       "      <td>000NA</td>\n",
       "      <td>DEMOCRAT</td>\n",
       "      <td>DEMOCRAT</td>\n",
       "      <td>DEMOCRAT</td>\n",
       "    </tr>\n",
       "    <tr>\n",
       "      <th>1</th>\n",
       "      <td>01001</td>\n",
       "      <td>REPUBLICAN</td>\n",
       "      <td>REPUBLICAN</td>\n",
       "      <td>REPUBLICAN</td>\n",
       "    </tr>\n",
       "    <tr>\n",
       "      <th>2</th>\n",
       "      <td>01003</td>\n",
       "      <td>REPUBLICAN</td>\n",
       "      <td>REPUBLICAN</td>\n",
       "      <td>REPUBLICAN</td>\n",
       "    </tr>\n",
       "    <tr>\n",
       "      <th>3</th>\n",
       "      <td>01005</td>\n",
       "      <td>DEMOCRAT</td>\n",
       "      <td>REPUBLICAN</td>\n",
       "      <td>REPUBLICAN</td>\n",
       "    </tr>\n",
       "    <tr>\n",
       "      <th>4</th>\n",
       "      <td>01007</td>\n",
       "      <td>REPUBLICAN</td>\n",
       "      <td>REPUBLICAN</td>\n",
       "      <td>REPUBLICAN</td>\n",
       "    </tr>\n",
       "    <tr>\n",
       "      <th>5</th>\n",
       "      <td>01009</td>\n",
       "      <td>REPUBLICAN</td>\n",
       "      <td>REPUBLICAN</td>\n",
       "      <td>REPUBLICAN</td>\n",
       "    </tr>\n",
       "    <tr>\n",
       "      <th>6</th>\n",
       "      <td>01011</td>\n",
       "      <td>DEMOCRAT</td>\n",
       "      <td>DEMOCRAT</td>\n",
       "      <td>DEMOCRAT</td>\n",
       "    </tr>\n",
       "    <tr>\n",
       "      <th>7</th>\n",
       "      <td>01013</td>\n",
       "      <td>REPUBLICAN</td>\n",
       "      <td>REPUBLICAN</td>\n",
       "      <td>REPUBLICAN</td>\n",
       "    </tr>\n",
       "    <tr>\n",
       "      <th>8</th>\n",
       "      <td>01015</td>\n",
       "      <td>REPUBLICAN</td>\n",
       "      <td>REPUBLICAN</td>\n",
       "      <td>REPUBLICAN</td>\n",
       "    </tr>\n",
       "    <tr>\n",
       "      <th>9</th>\n",
       "      <td>01017</td>\n",
       "      <td>REPUBLICAN</td>\n",
       "      <td>REPUBLICAN</td>\n",
       "      <td>REPUBLICAN</td>\n",
       "    </tr>\n",
       "  </tbody>\n",
       "</table>\n",
       "</div>"
      ],
      "text/plain": [
       "    FIPS  PresW_2012  PresW_2016  PresW_2020\n",
       "0  000NA    DEMOCRAT    DEMOCRAT    DEMOCRAT\n",
       "1  01001  REPUBLICAN  REPUBLICAN  REPUBLICAN\n",
       "2  01003  REPUBLICAN  REPUBLICAN  REPUBLICAN\n",
       "3  01005    DEMOCRAT  REPUBLICAN  REPUBLICAN\n",
       "4  01007  REPUBLICAN  REPUBLICAN  REPUBLICAN\n",
       "5  01009  REPUBLICAN  REPUBLICAN  REPUBLICAN\n",
       "6  01011    DEMOCRAT    DEMOCRAT    DEMOCRAT\n",
       "7  01013  REPUBLICAN  REPUBLICAN  REPUBLICAN\n",
       "8  01015  REPUBLICAN  REPUBLICAN  REPUBLICAN\n",
       "9  01017  REPUBLICAN  REPUBLICAN  REPUBLICAN"
      ]
     },
     "execution_count": 12,
     "metadata": {},
     "output_type": "execute_result"
    }
   ],
   "source": [
    "df_pivoted.head(10)"
   ]
  },
  {
   "cell_type": "code",
   "execution_count": 13,
   "id": "6a0f0f5c",
   "metadata": {},
   "outputs": [],
   "source": [
    "mask = df_pivoted['FIPS'].str.contains('NA', na=False)\n",
    "\n",
    "# Inverting the mask to keep rows where 'FIPS' does NOT contain 'NA'\n",
    "df_pivoted = df_pivoted[~mask]"
   ]
  },
  {
   "cell_type": "code",
   "execution_count": 14,
   "id": "15037b5b",
   "metadata": {},
   "outputs": [],
   "source": [
    "df_poli = df_pivoted\n",
    "df_poli.shape\n",
    "df_poli.head(10)\n",
    "df_poli = df_poli.reset_index(drop=True)"
   ]
  },
  {
   "cell_type": "code",
   "execution_count": 15,
   "id": "6f54c104",
   "metadata": {},
   "outputs": [
    {
     "data": {
      "text/html": [
       "<div>\n",
       "<style scoped>\n",
       "    .dataframe tbody tr th:only-of-type {\n",
       "        vertical-align: middle;\n",
       "    }\n",
       "\n",
       "    .dataframe tbody tr th {\n",
       "        vertical-align: top;\n",
       "    }\n",
       "\n",
       "    .dataframe thead th {\n",
       "        text-align: right;\n",
       "    }\n",
       "</style>\n",
       "<table border=\"1\" class=\"dataframe\">\n",
       "  <thead>\n",
       "    <tr style=\"text-align: right;\">\n",
       "      <th></th>\n",
       "      <th>FIPS</th>\n",
       "      <th>PresW_2012</th>\n",
       "      <th>PresW_2016</th>\n",
       "      <th>PresW_2020</th>\n",
       "    </tr>\n",
       "  </thead>\n",
       "  <tbody>\n",
       "    <tr>\n",
       "      <th>0</th>\n",
       "      <td>01001</td>\n",
       "      <td>REPUBLICAN</td>\n",
       "      <td>REPUBLICAN</td>\n",
       "      <td>REPUBLICAN</td>\n",
       "    </tr>\n",
       "    <tr>\n",
       "      <th>1</th>\n",
       "      <td>01003</td>\n",
       "      <td>REPUBLICAN</td>\n",
       "      <td>REPUBLICAN</td>\n",
       "      <td>REPUBLICAN</td>\n",
       "    </tr>\n",
       "    <tr>\n",
       "      <th>2</th>\n",
       "      <td>01005</td>\n",
       "      <td>DEMOCRAT</td>\n",
       "      <td>REPUBLICAN</td>\n",
       "      <td>REPUBLICAN</td>\n",
       "    </tr>\n",
       "    <tr>\n",
       "      <th>3</th>\n",
       "      <td>01007</td>\n",
       "      <td>REPUBLICAN</td>\n",
       "      <td>REPUBLICAN</td>\n",
       "      <td>REPUBLICAN</td>\n",
       "    </tr>\n",
       "    <tr>\n",
       "      <th>4</th>\n",
       "      <td>01009</td>\n",
       "      <td>REPUBLICAN</td>\n",
       "      <td>REPUBLICAN</td>\n",
       "      <td>REPUBLICAN</td>\n",
       "    </tr>\n",
       "  </tbody>\n",
       "</table>\n",
       "</div>"
      ],
      "text/plain": [
       "    FIPS  PresW_2012  PresW_2016  PresW_2020\n",
       "0  01001  REPUBLICAN  REPUBLICAN  REPUBLICAN\n",
       "1  01003  REPUBLICAN  REPUBLICAN  REPUBLICAN\n",
       "2  01005    DEMOCRAT  REPUBLICAN  REPUBLICAN\n",
       "3  01007  REPUBLICAN  REPUBLICAN  REPUBLICAN\n",
       "4  01009  REPUBLICAN  REPUBLICAN  REPUBLICAN"
      ]
     },
     "execution_count": 15,
     "metadata": {},
     "output_type": "execute_result"
    }
   ],
   "source": [
    "df_poli.head()"
   ]
  },
  {
   "cell_type": "code",
   "execution_count": 17,
   "id": "066e4013",
   "metadata": {},
   "outputs": [],
   "source": [
    "df_poli.to_csv('poli_reformed2.csv')"
   ]
  },
  {
   "cell_type": "code",
   "execution_count": null,
   "id": "54ce412d",
   "metadata": {},
   "outputs": [],
   "source": []
  }
 ],
 "metadata": {
  "kernelspec": {
   "display_name": "Python 3 (ipykernel)",
   "language": "python",
   "name": "python3"
  },
  "language_info": {
   "codemirror_mode": {
    "name": "ipython",
    "version": 3
   },
   "file_extension": ".py",
   "mimetype": "text/x-python",
   "name": "python",
   "nbconvert_exporter": "python",
   "pygments_lexer": "ipython3",
   "version": "3.9.18"
  }
 },
 "nbformat": 4,
 "nbformat_minor": 5
}
