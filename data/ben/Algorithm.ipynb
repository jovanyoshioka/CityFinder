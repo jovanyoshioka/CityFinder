{
 "cells": [
  {
   "cell_type": "code",
   "execution_count": 1,
   "id": "a758ac88",
   "metadata": {},
   "outputs": [],
   "source": [
    "import numpy as np\n",
    "import pandas as pd\n",
    "import matplotlib.pyplot as plt\n",
    "import os\n",
    "import sklearn\n",
    "\n",
    "from sklearn.preprocessing import MinMaxScaler\n",
    "from sklearn.preprocessing import OneHotEncoder"
   ]
  },
  {
   "cell_type": "code",
   "execution_count": 2,
   "id": "a7cac53c",
   "metadata": {},
   "outputs": [],
   "source": [
    "# df = pd.read_csv('')"
   ]
  },
  {
   "cell_type": "code",
   "execution_count": null,
   "id": "e2a265f2",
   "metadata": {},
   "outputs": [],
   "source": [
    "# Convert qual variables to dummy vars\n",
    "qual_vars = ['x', 'y']  # List of qualitative variables\n",
    "df = pd.get_dummies(df, columns=qual_vars, drop_first=True)\n",
    "# drop one for IND/any other with potential multicollinearity\n",
    "\n",
    "# Normalize all non-key vars\n",
    "quant_vars = ['z', 'a']  # List of quantitative variables\n",
    "df[quant_vars] = MinMaxScaler().fit_transform(df[quant_vars])"
   ]
  },
  {
   "cell_type": "code",
   "execution_count": null,
   "id": "f3e50d0e",
   "metadata": {},
   "outputs": [],
   "source": [
    "# PCA rel and user imp example storage:\n",
    "user_importance = {'quant_var1': 3, 'quant_var2': 5, 'qual_var1_value1': 1, 'qual_var2_value2': 0}\n",
    "\n",
    "# VIF\n",
    "vif_scores = {\n",
    "    'feature1': {'feature2': 1.1, 'feature3': 1.3, 'feature4': 1.2},\n",
    "    'feature2': {'feature1': 1.1, 'feature3': 1.5, 'feature4': 1.4},\n",
    "    'feature3': {'feature1': 1.3, 'feature2': 1.5, 'feature4': 1.6},\n",
    "    'feature4': {'feature1': 1.2, 'feature2': 1.4, 'feature3': 1.6},\n",
    "}\n",
    "\n",
    "# PCA dict\n",
    "pca_scores = {'feature1': 0.25, 'feature2': 0.20, 'feature3': 0.15, 'feature4': 0.10}\n",
    "\n",
    "adjusted_relevance = adjust_feature_relevance(pca_scores, user_importance, vif_scores)\n",
    "print(\"Adjusted Relevance Scores:\", adjusted_relevance)\n",
    "\n",
    "# Suggest the next feature to ask\n",
    "next_feature = max(adjusted_relevance, key=adjusted_relevance.get)\n",
    "print(\"Next feature to ask based on adjusted relevance:\", next_feature)"
   ]
  },
  {
   "cell_type": "code",
   "execution_count": null,
   "id": "15261d52",
   "metadata": {},
   "outputs": [],
   "source": [
    "# algo for recommending next feature\n",
    "\n",
    "def adjust_feature_relevance(pca_scores, user_importance, vif_scores):\n",
    "    adjusted_relevance = {}\n",
    "    total_features = len(pca_scores)\n",
    "    \n",
    "    for feature, pca_score in pca_scores.items():\n",
    "        # Calculate the average VIF weighted by user importance for this feature against others\n",
    "        vif_weighted_sum = sum(\n",
    "            vif_scores[feature].get(other_feature, 0) * user_importance.get(other_feature, 0)\n",
    "            for other_feature in pca_scores if other_feature != feature\n",
    "        ) / (total_features - 1)\n",
    "        \n",
    "        # Adjust the PCA score by subtracting the weighted VIF sum\n",
    "        adjusted_relevance[feature] = max(pca_score * 50 - vif_weighted_sum, 0)  # Ensure relevance is not negative\n",
    "\n",
    "    return adjusted_relevance"
   ]
  },
  {
   "cell_type": "code",
   "execution_count": null,
   "id": "ba37d331",
   "metadata": {},
   "outputs": [],
   "source": [
    "# Calculate city scores\n",
    "city_scores = {}\n",
    "for index, row in df.iterrows():\n",
    "    score = sum(row[var] * PCA_relevance.get(var, 0) * user_importance.get(var, 0) for var in df.columns)\n",
    "    city_scores[index] = score\n",
    "\n",
    "# Sort cities by their scores in descending order\n",
    "sorted_cities = sorted(city_scores.items(), key=lambda x: x[1], reverse=True)\n",
    "\n",
    "# Display the top 5 cities based on scores\n",
    "print(\"Top 5 cities based on scores:\", sorted_cities[:5])"
   ]
  },
  {
   "cell_type": "code",
   "execution_count": null,
   "id": "235dc662",
   "metadata": {},
   "outputs": [],
   "source": [
    "# code threshold for explainability to end sim\n",
    "# code passthrough for user var category choice"
   ]
  },
  {
   "cell_type": "code",
   "execution_count": null,
   "id": "4f2ef5b8",
   "metadata": {},
   "outputs": [],
   "source": [
    "# add to pro list if * > * median for normalized var of interest >=3\n",
    "# add to cons list * < * median for normalized var of interest >=3"
   ]
  },
  {
   "cell_type": "code",
   "execution_count": null,
   "id": "a1bbfb75",
   "metadata": {},
   "outputs": [],
   "source": [
    "# dummy\n",
    "# normalize\n",
    "# invert when necessary"
   ]
  }
 ],
 "metadata": {
  "kernelspec": {
   "display_name": "Python 3 (ipykernel)",
   "language": "python",
   "name": "python3"
  },
  "language_info": {
   "codemirror_mode": {
    "name": "ipython",
    "version": 3
   },
   "file_extension": ".py",
   "mimetype": "text/x-python",
   "name": "python",
   "nbconvert_exporter": "python",
   "pygments_lexer": "ipython3",
   "version": "3.9.18"
  }
 },
 "nbformat": 4,
 "nbformat_minor": 5
}
