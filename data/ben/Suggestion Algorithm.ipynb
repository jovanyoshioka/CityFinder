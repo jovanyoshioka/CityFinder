{
 "cells": [
  {
   "cell_type": "code",
   "execution_count": 1,
   "id": "6b3cba07",
   "metadata": {},
   "outputs": [],
   "source": [
    "import numpy as np\n",
    "import pandas as pd\n",
    "import matplotlib.pyplot as plt\n",
    "import os\n",
    "\n",
    "import sklearn\n",
    "\n",
    "from sklearn.decomposition import PCA\n",
    "from sklearn.preprocessing import StandardScaler"
   ]
  },
  {
   "cell_type": "code",
   "execution_count": 2,
   "id": "b2c93750",
   "metadata": {},
   "outputs": [],
   "source": [
    "City = pd.read_csv('City_Master.csv', low_memory=False)"
   ]
  },
  {
   "cell_type": "code",
   "execution_count": 3,
   "id": "0cfaf760",
   "metadata": {},
   "outputs": [],
   "source": [
    "# for column in City.columns:\n",
    "#     print(column)"
   ]
  },
  {
   "cell_type": "code",
   "execution_count": 4,
   "id": "e9559ec0",
   "metadata": {},
   "outputs": [],
   "source": [
    "# first: create useful columns, drop unecessary columns\n",
    "City = City.drop(columns={'Unnamed: 0', 'YEAR_y', 'Developed', 'Developed Open', 'Developed Low', 'Developed Med',\n",
    "                         'Developed High', 'STATEFIPS', 'office', 'candidate', 'candidatevotes', 'version',\n",
    "                         'mode', 'Metro Name', '2020 Population', 'Congregations', 'Adherents', 'Congregations per 100,000 Population',\n",
    "                         'Population Rank', 'Congregations Rank', 'Adherents Rank', 'Adherents as % of Population Rank',\n",
    "                         })\n",
    "City = City.rename(columns={'YEAR_x': 'YEAR'})"
   ]
  },
  {
   "cell_type": "code",
   "execution_count": 5,
   "id": "b4bb8ca9",
   "metadata": {},
   "outputs": [],
   "source": [
    "# making weather data more useful\n",
    "\n",
    "# annualizing precip/snowfall\n",
    "\n",
    "City['Annual_Precip'] = City[['prcp_Jan', 'prcp_Feb', 'prcp_March', 'prcp_April', 'prcp_May', 'prcp_June',\n",
    "                              'prcp_July', 'prcp_Aug', 'prcp_Sept', 'prcp_Oct', 'prcp_Nov', 'prcp_Dec']].sum(axis=1)\n",
    "\n",
    "City['Annual_Snowfall'] = City[['snow_Jan', 'snow_Feb', 'snow_March', 'snow_April', 'snow_May', 'snow_June',\n",
    "                                'snow_July', 'snow_Aug', 'snow_Sept', 'snow_Oct', 'snow_Nov', 'snow_Dec']].sum(axis=1)\n",
    "\n",
    "# making relevant seasonal estimates based on meteorological seasons\n",
    "\n",
    "City['Winter_Temp'] = City[['tavg_Dec', 'tavg_Jan', 'tavg_Feb']].mean(axis=1)\n",
    "\n",
    "City['Summer_Temp'] = City[['tavg_June', 'tavg_July', 'tavg_Aug']].mean(axis=1)\n",
    "\n",
    "# drop col if starts with prcp_ or snow_ or t_avg\n",
    "columns_to_drop = [col for col in City.columns if col.startswith('prcp_') or col.startswith('snow_') or col.startswith('tavg_')]\n",
    "City = City.drop(columns=columns_to_drop)"
   ]
  },
  {
   "cell_type": "code",
   "execution_count": 6,
   "id": "5c0acbb2",
   "metadata": {},
   "outputs": [
    {
     "name": "stdout",
     "output_type": "stream",
     "text": [
      "FIPS\n",
      "STATE\n",
      "COUNTY\n",
      "YEAR\n",
      "Acreage\n",
      "City_Pop\n",
      "HHINCOME_mean\n",
      "HHINCOME_median\n",
      "VALUEH_mean\n",
      "VALUEH_median\n",
      "AGE_mean\n",
      "AGE_median\n",
      "Female_Rate\n",
      "Employment_Rate\n",
      "Unemployment_Rate\n",
      "NotLaborForce_Rate\n",
      "IND_Arts_Ent_Rec_Food\n",
      "IND_Constr\n",
      "IND_Fin_Ins_RealEstate\n",
      "IND_Info\n",
      "IND_Manu\n",
      "IND_Mil\n",
      "IND_OtherServices\n",
      "IND_PublicAdmin\n",
      "IND_Retail\n",
      "IND_Transpo_Ware_Util\n",
      "IND_Wholesale\n",
      "party\n",
      "totalvotes\n",
      "Adherents as % of Population\n",
      "Congregations Per 100,000 Pop. Rank\n",
      "population\n",
      "households\n",
      "alltransit_performance_score\n",
      "Legal Status\n",
      "Medicinal\n",
      "Decriminalized\n",
      "Male_Rate\n",
      "Cropland_Rate\n",
      "Pasture_Rate\n",
      "Forest_Rate\n",
      "Density_Score\n",
      "Density_Index\n",
      "Population_Density\n",
      "incident_counts\n",
      "time_zone\n",
      "Arts_Ent_Rec_Est\n",
      "Food_Est\n",
      "HS_Grad_num\n",
      "HS_GRAD_RATE\n",
      "MSA\n",
      "violent_crime\n",
      "murder_non-neg_manslaughter\n",
      "rape\n",
      "robbery\n",
      "aggravated_assault\n",
      "property_crime\n",
      "burglary\n",
      "larceny_theft\n",
      "motor_vehicle_theft\n",
      "YEAR_Crime\n",
      "Num_Hospitals\n",
      "Hospital overall rating\n",
      "Num_Returns\n",
      "adj_gross_income\n",
      "total_income\n",
      "st_local_income_tax\n",
      "st_local_gen_sales_tax\n",
      "realestate_tax\n",
      "personal_prop_tax\n",
      "total_taxes_paid\n",
      "total_tax_payments_amt\n",
      "Annual_Precip\n",
      "Annual_Snowfall\n",
      "Winter_Temp\n",
      "Summer_Temp\n"
     ]
    }
   ],
   "source": [
    "for column in City.columns:\n",
    "    print(column)"
   ]
  },
  {
   "cell_type": "code",
   "execution_count": 7,
   "id": "efc5781c",
   "metadata": {},
   "outputs": [
    {
     "data": {
      "text/plain": [
       "(105815, 76)"
      ]
     },
     "execution_count": 7,
     "metadata": {},
     "output_type": "execute_result"
    }
   ],
   "source": [
    "City.shape"
   ]
  },
  {
   "cell_type": "code",
   "execution_count": 8,
   "id": "1c4d6f90",
   "metadata": {},
   "outputs": [],
   "source": [
    "# additional edits based on Arwen's and Jovi's desired changes to the dataframe before moving on"
   ]
  },
  {
   "cell_type": "code",
   "execution_count": 9,
   "id": "f7f33a01",
   "metadata": {},
   "outputs": [],
   "source": [
    "# PCA decomp"
   ]
  }
 ],
 "metadata": {
  "kernelspec": {
   "display_name": "Python 3 (ipykernel)",
   "language": "python",
   "name": "python3"
  },
  "language_info": {
   "codemirror_mode": {
    "name": "ipython",
    "version": 3
   },
   "file_extension": ".py",
   "mimetype": "text/x-python",
   "name": "python",
   "nbconvert_exporter": "python",
   "pygments_lexer": "ipython3",
   "version": "3.9.18"
  }
 },
 "nbformat": 4,
 "nbformat_minor": 5
}
