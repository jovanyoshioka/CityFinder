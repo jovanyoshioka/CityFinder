{
 "cells": [
  {
   "cell_type": "code",
   "execution_count": 1,
   "id": "049f56a1",
   "metadata": {},
   "outputs": [],
   "source": [
    "import numpy as np\n",
    "import pandas as pd\n",
    "import matplotlib.pyplot as plt\n",
    "import os\n",
    "\n",
    "import sklearn as skl"
   ]
  },
  {
   "cell_type": "code",
   "execution_count": 2,
   "id": "e0fea02d",
   "metadata": {},
   "outputs": [],
   "source": [
    "Koob = pd.read_csv('Koob_Master.csv', low_memory=False)\n",
    "Jovi = pd.read_csv('Jovi_Master.csv', low_memory=False)\n",
    "Arwen = pd.read_csv('Arwen_Master.csv', low_memory=False)"
   ]
  },
  {
   "cell_type": "code",
   "execution_count": 3,
   "id": "f0851b88",
   "metadata": {},
   "outputs": [],
   "source": [
    "# Koob.columns"
   ]
  },
  {
   "cell_type": "code",
   "execution_count": 4,
   "id": "018625b8",
   "metadata": {},
   "outputs": [],
   "source": [
    "Koob = Koob.rename(columns={'Total Accounted': 'Acreage', 'State': 'STATE', 'County': 'COUNTY', 'CITYPOP_max': 'City_Pop',\n",
    "                           'SEX_2_mean': 'Female_Rate', 'EMPSTAT_1_mean': 'Employment_Rate', 'EMPSTAT_2_mean': 'Unemployment_Rate',\n",
    "                           'EMPSTAT_3_mean': 'NotLaborForce_Rate'})\n",
    "\n",
    "#rename industry code columns\n",
    "rename_mapping = {\n",
    "    col: col[8:-5] if col.startswith('IND_Cat_IND') else col for col in Koob.columns\n",
    "}\n",
    "\n",
    "Koob = Koob.rename(columns=rename_mapping)"
   ]
  },
  {
   "cell_type": "code",
   "execution_count": 5,
   "id": "2355d427",
   "metadata": {},
   "outputs": [],
   "source": [
    "# fix sexes\n",
    "Koob['Male_Rate'] = 1 - Koob['Female_Rate']\n",
    "\n",
    "# creating land cover rates\n",
    "Koob['Cropland_Rate'] = (Koob['Major Crops'] + Koob['Minor Crops']) / Koob['Acreage']\n",
    "Koob['Pasture_Rate'] = Koob['Pasture'] / Koob['Acreage']\n",
    "Koob['Forest_Rate'] = Koob['Forest'] / Koob['Acreage']\n",
    "\n",
    "\n",
    "# creating land density index\n",
    "Koob['Density_Score'] = (0.1*Koob['Developed Open'] + 0.35*Koob['Developed Low'] + 0.65*Koob['Developed Med'] + 0.9*Koob['Developed High']) / Koob['Acreage']\n",
    "min_density_score = Koob['Density_Score'].min()\n",
    "range_density_score = Koob['Density_Score'].max() - min_density_score\n",
    "Koob['Density_Index'] = (Koob['Density_Score'] - min_density_score) / range_density_score\n",
    "\n",
    "# creating human density score\n",
    "Koob['Population_Density'] = np.where(\n",
    "    (Koob['Acreage'] > 0) & (Koob['Acreage'].notnull()),\n",
    "    np.maximum(Koob['City_Pop'], Koob['population']) / Koob['Acreage'], pd.NA)"
   ]
  },
  {
   "cell_type": "code",
   "execution_count": 6,
   "id": "3911ec32",
   "metadata": {},
   "outputs": [],
   "source": [
    "Koob = Koob.drop(columns={'Major Crops', 'Minor Crops', 'Pasture', 'Hay', 'Forest', 'FIPS_', 'EDUC_HS_mean', 'EDUC_College_mean',\n",
    "                  'IND_Cat_Other_mean', 'STATEFIPS_agg', 'year', 'state', 'state_po', 'county_name', 'county_fips', 'STATEFIPS_politics',\n",
    "                   'CBSA Code', 'cbsacode', 'metropolitandivisioncode', 'csacode', 'cbsatitle', 'metropolitanmicropolitanstatis',\n",
    "                   'metropolitandivisiontitle', 'csatitle', 'countycountyequivalent', 'statename', 'centraloutlyingcounty',\n",
    "                   'STATEFIPS_religion', 'name', 'blkgrps', 'STATEFIPS_transit', 'State_marijuana', 'Unnamed: 0'})"
   ]
  },
  {
   "cell_type": "code",
   "execution_count": 15,
   "id": "e600f922",
   "metadata": {},
   "outputs": [
    {
     "data": {
      "text/plain": [
       "(105153, 64)"
      ]
     },
     "execution_count": 15,
     "metadata": {},
     "output_type": "execute_result"
    }
   ],
   "source": [
    "Koob.columns\n",
    "Koob.shape"
   ]
  },
  {
   "cell_type": "code",
   "execution_count": 8,
   "id": "28504730",
   "metadata": {},
   "outputs": [],
   "source": [
    "# only relevant NAICS\n",
    "# columns_to_drop = [col for col in Jovi.columns if col.startswith('naics_') and not (col.startswith('naics_71') or col.startswith('naics_72'))]\n",
    "# Jovi = Jovi.drop(columns=columns_to_drop)\n",
    "\n",
    "\n",
    "# count 71s and 72s\n",
    "Jovi['Arts_Ent_Rec_Est'] = Jovi[[col for col in Jovi.columns if col.startswith('naics_71')]].sum(axis=1)\n",
    "Jovi['Food_Est'] = Jovi[[col for col in Jovi.columns if col.startswith('naics_72')]].sum(axis=1)\n",
    "\n",
    "# no NAICS\n",
    "columns_to_drop_all = [col for col in Jovi.columns if col.startswith('naics_')]\n",
    "Jovi = Jovi.drop(columns=columns_to_drop_all)\n",
    "Jovi = Jovi.drop(columns={'STATE', 'COUNTY'})\n",
    "# Jovi.columns\n",
    "# Jovi.shape"
   ]
  },
  {
   "cell_type": "code",
   "execution_count": 9,
   "id": "0b518db8",
   "metadata": {
    "scrolled": true
   },
   "outputs": [],
   "source": [
    "# Arwen.columns"
   ]
  },
  {
   "cell_type": "code",
   "execution_count": 10,
   "id": "6a32c710",
   "metadata": {},
   "outputs": [],
   "source": [
    "Arwen = Arwen.drop(columns={'Unnamed: 0.1', 'Unnamed: 0', 'STATE', 'COUNTY'})\n",
    "# Arwen.shape"
   ]
  },
  {
   "cell_type": "code",
   "execution_count": 13,
   "id": "d539cb90",
   "metadata": {},
   "outputs": [],
   "source": [
    "# merge !!!!\n",
    "\n",
    "Koob['FIPS'] = Koob['FIPS'].astype(str)\n",
    "Jovi['FIPS'] = Jovi['FIPS'].astype(str)\n",
    "Arwen['FIPS'] = Arwen['FIPS'].astype(str)\n",
    "\n",
    "Master = pd.merge(Koob, Jovi, on='FIPS', how='outer')\n",
    "Master = pd.merge(Master, Arwen, on='FIPS', how='outer')"
   ]
  },
  {
   "cell_type": "code",
   "execution_count": 14,
   "id": "3aa0a732",
   "metadata": {},
   "outputs": [
    {
     "data": {
      "text/plain": [
       "(105815, 129)"
      ]
     },
     "execution_count": 14,
     "metadata": {},
     "output_type": "execute_result"
    }
   ],
   "source": [
    "Master.shape"
   ]
  },
  {
   "cell_type": "code",
   "execution_count": 16,
   "id": "1b58f843",
   "metadata": {},
   "outputs": [],
   "source": [
    "Master.to_csv('City_Master.csv')"
   ]
  },
  {
   "cell_type": "code",
   "execution_count": null,
   "id": "cee1a4cb",
   "metadata": {},
   "outputs": [],
   "source": []
  }
 ],
 "metadata": {
  "kernelspec": {
   "display_name": "Python 3 (ipykernel)",
   "language": "python",
   "name": "python3"
  },
  "language_info": {
   "codemirror_mode": {
    "name": "ipython",
    "version": 3
   },
   "file_extension": ".py",
   "mimetype": "text/x-python",
   "name": "python",
   "nbconvert_exporter": "python",
   "pygments_lexer": "ipython3",
   "version": "3.9.18"
  }
 },
 "nbformat": 4,
 "nbformat_minor": 5
}
