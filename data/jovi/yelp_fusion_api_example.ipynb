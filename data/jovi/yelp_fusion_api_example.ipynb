{
 "cells": [
  {
   "cell_type": "markdown",
   "id": "3c3c443a",
   "metadata": {},
   "source": [
    "# Yelp Fusion API\n",
    "\n",
    "**Documentation:** https://docs.developer.yelp.com/docs/fusion-intro<br>\n",
    "&nbsp;&nbsp;&nbsp;&nbsp;&nbsp;&nbsp;Search: https://docs.developer.yelp.com/reference/v3_business_search<br>\n",
    "&nbsp;&nbsp;&nbsp;&nbsp;&nbsp;&nbsp;Categories: https://docs.developer.yelp.com/docs/resources-categories\n",
    "\n",
    "\n",
    "**FAQ:** https://docs.developer.yelp.com/docs/fusion-faq<br>\n",
    "**Display Requirements:** https://terms.yelp.com/developers/display_requirements/\n",
    "\n",
    "**Important:** According to Yelp Fusion API content may only be cached for a maximum of 24 hours (except Yelp Business IDs which can be stored indefinitely). Therefore, we cannot store the retrieved data. Instead, we must call this API in real-time via the CityFinder web-based application. Read more at https://terms.yelp.com/developers/api_terms/20190327_en_us/\n",
    "\n",
    "**Note:** Yelp Fusion API was chosen instead of Google Places API because of the simplicity of using its free API calls. Google Places API similarly provides a $200 credit per month; however, its billing structure is more complex. Additionally, Yelp does not require a credit card number."
   ]
  },
  {
   "cell_type": "code",
   "execution_count": null,
   "id": "636ff06e",
   "metadata": {},
   "outputs": [],
   "source": [
    "import requests"
   ]
  },
  {
   "cell_type": "code",
   "execution_count": null,
   "id": "8021680c",
   "metadata": {},
   "outputs": [],
   "source": [
    "# API key used for authentication.\n",
    "#   Note: This should remain a secret, delete before pushing code.\n",
    "API_KEY = ''\n",
    "\n",
    "# Yelp Fusion API constants.\n",
    "API_HOST = 'https://api.yelp.com'\n",
    "SEARCH_PATH = '/v3/businesses/search'\n",
    "BUSINESS_PATH = '/v3/businesses/'"
   ]
  },
  {
   "cell_type": "code",
   "execution_count": null,
   "id": "ac5795f3",
   "metadata": {},
   "outputs": [],
   "source": [
    "limit = '20'\n",
    "location = 'Pigeon Forge, TN'\n",
    "# You can specify multiple categories, format is comma separated (e.g., \"amusementparks,elementaryschools\")\n",
    "categories = 'amusementparks'\n",
    "\n",
    "url = API_HOST + SEARCH_PATH + \"?location=\" + location + \"&categories=\" + categories + \"&limit=\" + limit\n",
    "headers = {\n",
    "    \"accept\": \"application/json\",\n",
    "    \"Authorization\": \"Bearer %s\" % API_KEY\n",
    "}\n",
    "response = requests.get(url, headers=headers)\n",
    "\n",
    "print(response.text)"
   ]
  },
  {
   "cell_type": "code",
   "execution_count": null,
   "id": "47eb8ecd",
   "metadata": {},
   "outputs": [],
   "source": []
  }
 ],
 "metadata": {
  "kernelspec": {
   "display_name": "Python 3 (ipykernel)",
   "language": "python",
   "name": "python3"
  },
  "language_info": {
   "codemirror_mode": {
    "name": "ipython",
    "version": 3
   },
   "file_extension": ".py",
   "mimetype": "text/x-python",
   "name": "python",
   "nbconvert_exporter": "python",
   "pygments_lexer": "ipython3",
   "version": "3.11.4"
  }
 },
 "nbformat": 4,
 "nbformat_minor": 5
}
