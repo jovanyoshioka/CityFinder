{
 "cells": [
  {
   "cell_type": "code",
   "execution_count": 1,
   "id": "a08bb425",
   "metadata": {},
   "outputs": [],
   "source": [
    "import pandas as pd"
   ]
  },
  {
   "cell_type": "markdown",
   "id": "d737c0e6",
   "metadata": {},
   "source": [
    "## Create Dictionaries for Looking up State / County to FIPS Conversions"
   ]
  },
  {
   "cell_type": "code",
   "execution_count": 2,
   "id": "9cd40a72",
   "metadata": {},
   "outputs": [
    {
     "data": {
      "text/html": [
       "<div>\n",
       "<style scoped>\n",
       "    .dataframe tbody tr th:only-of-type {\n",
       "        vertical-align: middle;\n",
       "    }\n",
       "\n",
       "    .dataframe tbody tr th {\n",
       "        vertical-align: top;\n",
       "    }\n",
       "\n",
       "    .dataframe thead th {\n",
       "        text-align: right;\n",
       "    }\n",
       "</style>\n",
       "<table border=\"1\" class=\"dataframe\">\n",
       "  <thead>\n",
       "    <tr style=\"text-align: right;\">\n",
       "      <th></th>\n",
       "      <th>fips</th>\n",
       "      <th>county</th>\n",
       "      <th>state</th>\n",
       "    </tr>\n",
       "  </thead>\n",
       "  <tbody>\n",
       "    <tr>\n",
       "      <th>0</th>\n",
       "      <td>01001</td>\n",
       "      <td>Autauga County</td>\n",
       "      <td>AL</td>\n",
       "    </tr>\n",
       "    <tr>\n",
       "      <th>1</th>\n",
       "      <td>01003</td>\n",
       "      <td>Baldwin County</td>\n",
       "      <td>AL</td>\n",
       "    </tr>\n",
       "    <tr>\n",
       "      <th>2</th>\n",
       "      <td>01005</td>\n",
       "      <td>Barbour County</td>\n",
       "      <td>AL</td>\n",
       "    </tr>\n",
       "    <tr>\n",
       "      <th>3</th>\n",
       "      <td>01007</td>\n",
       "      <td>Bibb County</td>\n",
       "      <td>AL</td>\n",
       "    </tr>\n",
       "    <tr>\n",
       "      <th>4</th>\n",
       "      <td>01009</td>\n",
       "      <td>Blount County</td>\n",
       "      <td>AL</td>\n",
       "    </tr>\n",
       "  </tbody>\n",
       "</table>\n",
       "</div>"
      ],
      "text/plain": [
       "    fips          county state\n",
       "0  01001  Autauga County    AL\n",
       "1  01003  Baldwin County    AL\n",
       "2  01005  Barbour County    AL\n",
       "3  01007     Bibb County    AL\n",
       "4  01009   Blount County    AL"
      ]
     },
     "execution_count": 2,
     "metadata": {},
     "output_type": "execute_result"
    }
   ],
   "source": [
    "# Note: converters={'FIPS': str} to prevent leading zeros from being removed.\n",
    "df_fips = pd.read_csv('data/state_and_county_fips_arwen.csv', converters={'fips': str})\n",
    "df_fips['fips'] = df_fips['fips'].apply(lambda fips: fips.zfill(5))\n",
    "df_fips.head()"
   ]
  },
  {
   "cell_type": "code",
   "execution_count": 3,
   "id": "613f228b",
   "metadata": {},
   "outputs": [],
   "source": [
    "state_fips_codes = {}\n",
    "def create_state_fips_dict(state):\n",
    "    state_fips_row = df_fips.loc[df_fips['state'] == state].iloc[0]\n",
    "    state_fips = state_fips_row['fips'][:2]\n",
    "    state_fips_codes[state] = state_fips\n",
    "\n",
    "county_fips_codes = {}\n",
    "def create_county_fips_dict(county):\n",
    "    county_fips_row = df_fips.loc[df_fips['county'] == county].iloc[0]\n",
    "    county_fips = county_fips_row['fips'] # Note: For county, using full FIPs b/c different counties might have same 3-digit code.\n",
    "    county_fips_codes[county] = county_fips"
   ]
  },
  {
   "cell_type": "code",
   "execution_count": 4,
   "id": "ef9bbb63",
   "metadata": {},
   "outputs": [],
   "source": [
    "df_fips['state'].apply(create_state_fips_dict)\n",
    "df_fips['county'].apply(create_county_fips_dict);"
   ]
  },
  {
   "cell_type": "markdown",
   "id": "53131c54",
   "metadata": {},
   "source": [
    "## Methods for Looking up FIPS by State / County Name"
   ]
  },
  {
   "cell_type": "code",
   "execution_count": 5,
   "id": "072b145b",
   "metadata": {},
   "outputs": [],
   "source": [
    "def get_state_fips_code(state):\n",
    "    # Note: May be `null` if fips code not included in `state_and_county_fips.csv`.\n",
    "    if state in state_fips_codes:\n",
    "        return state_fips_codes[state]\n",
    "    else:\n",
    "        return 'null'\n",
    "\n",
    "def get_fips_by_county(county):\n",
    "    # Note: May be `null` if fips code not included in `state_and_county_fips.csv`.\n",
    "    if county in county_fips_codes:\n",
    "        return county_fips_codes[county]\n",
    "    else:\n",
    "        return 'null'"
   ]
  },
  {
   "cell_type": "markdown",
   "id": "b8af144c",
   "metadata": {},
   "source": [
    "## Usage Example"
   ]
  },
  {
   "cell_type": "code",
   "execution_count": 6,
   "id": "8e0ba0c6",
   "metadata": {},
   "outputs": [
    {
     "data": {
      "text/html": [
       "<div>\n",
       "<style scoped>\n",
       "    .dataframe tbody tr th:only-of-type {\n",
       "        vertical-align: middle;\n",
       "    }\n",
       "\n",
       "    .dataframe tbody tr th {\n",
       "        vertical-align: top;\n",
       "    }\n",
       "\n",
       "    .dataframe thead th {\n",
       "        text-align: right;\n",
       "    }\n",
       "</style>\n",
       "<table border=\"1\" class=\"dataframe\">\n",
       "  <thead>\n",
       "    <tr style=\"text-align: right;\">\n",
       "      <th></th>\n",
       "      <th>COUNTY</th>\n",
       "      <th>STATE</th>\n",
       "    </tr>\n",
       "  </thead>\n",
       "  <tbody>\n",
       "    <tr>\n",
       "      <th>0</th>\n",
       "      <td>Valdez-Cordova Census Area</td>\n",
       "      <td>AK</td>\n",
       "    </tr>\n",
       "    <tr>\n",
       "      <th>1</th>\n",
       "      <td>Wade Hampton Census Area</td>\n",
       "      <td>AK</td>\n",
       "    </tr>\n",
       "    <tr>\n",
       "      <th>2</th>\n",
       "      <td>Wrangell City and Borough</td>\n",
       "      <td>AK</td>\n",
       "    </tr>\n",
       "    <tr>\n",
       "      <th>3</th>\n",
       "      <td>Yakutat City and Borough</td>\n",
       "      <td>AK</td>\n",
       "    </tr>\n",
       "    <tr>\n",
       "      <th>4</th>\n",
       "      <td>Yukon-Koyukuk Census Area</td>\n",
       "      <td>AK</td>\n",
       "    </tr>\n",
       "  </tbody>\n",
       "</table>\n",
       "</div>"
      ],
      "text/plain": [
       "                       COUNTY STATE\n",
       "0  Valdez-Cordova Census Area    AK\n",
       "1    Wade Hampton Census Area    AK\n",
       "2   Wrangell City and Borough    AK\n",
       "3    Yakutat City and Borough    AK\n",
       "4   Yukon-Koyukuk Census Area    AK"
      ]
     },
     "execution_count": 6,
     "metadata": {},
     "output_type": "execute_result"
    }
   ],
   "source": [
    "df_data = pd.read_csv('data/county_state_to_fips_example.csv')\n",
    "df_data.head()"
   ]
  },
  {
   "cell_type": "code",
   "execution_count": 7,
   "id": "3dfcb721",
   "metadata": {},
   "outputs": [
    {
     "data": {
      "text/html": [
       "<div>\n",
       "<style scoped>\n",
       "    .dataframe tbody tr th:only-of-type {\n",
       "        vertical-align: middle;\n",
       "    }\n",
       "\n",
       "    .dataframe tbody tr th {\n",
       "        vertical-align: top;\n",
       "    }\n",
       "\n",
       "    .dataframe thead th {\n",
       "        text-align: right;\n",
       "    }\n",
       "</style>\n",
       "<table border=\"1\" class=\"dataframe\">\n",
       "  <thead>\n",
       "    <tr style=\"text-align: right;\">\n",
       "      <th></th>\n",
       "      <th>COUNTY</th>\n",
       "      <th>STATE</th>\n",
       "      <th>STATE_FIPS</th>\n",
       "      <th>FIPS</th>\n",
       "    </tr>\n",
       "  </thead>\n",
       "  <tbody>\n",
       "    <tr>\n",
       "      <th>0</th>\n",
       "      <td>Valdez-Cordova Census Area</td>\n",
       "      <td>AK</td>\n",
       "      <td>02</td>\n",
       "      <td>02261</td>\n",
       "    </tr>\n",
       "    <tr>\n",
       "      <th>1</th>\n",
       "      <td>Wade Hampton Census Area</td>\n",
       "      <td>AK</td>\n",
       "      <td>02</td>\n",
       "      <td>02270</td>\n",
       "    </tr>\n",
       "    <tr>\n",
       "      <th>2</th>\n",
       "      <td>Wrangell City and Borough</td>\n",
       "      <td>AK</td>\n",
       "      <td>02</td>\n",
       "      <td>02275</td>\n",
       "    </tr>\n",
       "    <tr>\n",
       "      <th>3</th>\n",
       "      <td>Yakutat City and Borough</td>\n",
       "      <td>AK</td>\n",
       "      <td>02</td>\n",
       "      <td>02282</td>\n",
       "    </tr>\n",
       "    <tr>\n",
       "      <th>4</th>\n",
       "      <td>Yukon-Koyukuk Census Area</td>\n",
       "      <td>AK</td>\n",
       "      <td>02</td>\n",
       "      <td>02290</td>\n",
       "    </tr>\n",
       "  </tbody>\n",
       "</table>\n",
       "</div>"
      ],
      "text/plain": [
       "                       COUNTY STATE STATE_FIPS   FIPS\n",
       "0  Valdez-Cordova Census Area    AK         02  02261\n",
       "1    Wade Hampton Census Area    AK         02  02270\n",
       "2   Wrangell City and Borough    AK         02  02275\n",
       "3    Yakutat City and Borough    AK         02  02282\n",
       "4   Yukon-Koyukuk Census Area    AK         02  02290"
      ]
     },
     "execution_count": 7,
     "metadata": {},
     "output_type": "execute_result"
    }
   ],
   "source": [
    "df_data['STATE_FIPS'] = df_data['STATE'].apply(get_state_fips_code)\n",
    "df_data['FIPS'] = df_data['COUNTY'].apply(get_fips_by_county)\n",
    "df_data.head()"
   ]
  },
  {
   "cell_type": "code",
   "execution_count": null,
   "id": "857bf43a",
   "metadata": {},
   "outputs": [],
   "source": []
  }
 ],
 "metadata": {
  "kernelspec": {
   "display_name": "Python 3 (ipykernel)",
   "language": "python",
   "name": "python3"
  },
  "language_info": {
   "codemirror_mode": {
    "name": "ipython",
    "version": 3
   },
   "file_extension": ".py",
   "mimetype": "text/x-python",
   "name": "python",
   "nbconvert_exporter": "python",
   "pygments_lexer": "ipython3",
   "version": "3.11.4"
  }
 },
 "nbformat": 4,
 "nbformat_minor": 5
}
