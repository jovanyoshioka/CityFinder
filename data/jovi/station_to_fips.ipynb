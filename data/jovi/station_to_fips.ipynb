{
 "cells": [
  {
   "cell_type": "code",
   "execution_count": 1,
   "id": "61594774",
   "metadata": {},
   "outputs": [],
   "source": [
    "import requests\n",
    "import pandas as pd\n",
    "import csv"
   ]
  },
  {
   "cell_type": "markdown",
   "id": "c28ac1fe",
   "metadata": {},
   "source": [
    "## Read Station Data"
   ]
  },
  {
   "cell_type": "code",
   "execution_count": 2,
   "id": "1bb3872f",
   "metadata": {
    "scrolled": true
   },
   "outputs": [
    {
     "data": {
      "text/plain": [
       "('USW00096409', '68.6483', '-149.3986')"
      ]
     },
     "execution_count": 2,
     "metadata": {},
     "output_type": "execute_result"
    }
   ],
   "source": [
    "# Read stations data to be converted to FIPS.\n",
    "stations = []  # List of format (station_id, latitude, longitude)\n",
    "with open('data/ghcnd-stations.txt') as f:\n",
    "    for line in f:\n",
    "        # Starts getting messy after state, but we just need station id and longitude/latitude, so disregard the rest.\n",
    "        columns = tuple(line.split()[:3])\n",
    "        \n",
    "        # Only care about the US stations.\n",
    "        if columns[0][0:2] == 'US':\n",
    "            stations.append(columns)\n",
    "\n",
    "stations[-1]"
   ]
  },
  {
   "cell_type": "markdown",
   "id": "ab402321",
   "metadata": {},
   "source": [
    "## Convert Station Latitude/Longitude to FIPS\n",
    "Uses the following API from FCC: https://geo.fcc.gov/api/census/#!/block/get_block_find"
   ]
  },
  {
   "cell_type": "code",
   "execution_count": 3,
   "id": "854bd151",
   "metadata": {},
   "outputs": [
    {
     "name": "stdout",
     "output_type": "stream",
     "text": [
      " Progress: 100.0%%"
     ]
    }
   ],
   "source": [
    "# Reference: https://gis.stackexchange.com/questions/294641/python-code-for-transforming-lat-long-into-fips-codes\n",
    "\n",
    "i = 0\n",
    "for station in stations:\n",
    "    # Display progress.\n",
    "    print('\\r', 'Progress: {}%'.format(str(round(i / (len(stations)-1) * 100, 3))), end='')\n",
    "    \n",
    "    station_id = station[0]\n",
    "    lat = station[1]\n",
    "    lon = station[2]\n",
    "    \n",
    "    # Contruct request URL\n",
    "    url = 'https://geo.fcc.gov/api/census/block/find?latitude={}&longitude={}&censusYear=2020&format=json'.format(lat, lon)\n",
    "    \n",
    "    # Get response from API\n",
    "    response = requests.get(url)\n",
    "\n",
    "    # Parse json in response\n",
    "    data = response.json()\n",
    "\n",
    "    # Extract location data.\n",
    "    fips = data['County']['FIPS']\n",
    "    county = data['County']['name']\n",
    "    state_code = data['State']['code']\n",
    "    state = data['State']['name']\n",
    "\n",
    "    # Save to CSV.\n",
    "    f = open('output/location_data.csv', 'a')\n",
    "    f.write('{},{},{},{},{},{},{}\\n'.format(station_id, fips, county, state_code, state, lat, lon))\n",
    "    f.close()\n",
    "    \n",
    "    # Simply for progress tracking.\n",
    "    i += 1"
   ]
  },
  {
   "cell_type": "code",
   "execution_count": 4,
   "id": "451025e6",
   "metadata": {},
   "outputs": [
    {
     "data": {
      "text/plain": [
       "datetime.datetime(2024, 3, 21, 2, 44, 39, 974410)"
      ]
     },
     "execution_count": 4,
     "metadata": {},
     "output_type": "execute_result"
    }
   ],
   "source": [
    "# Below is just to track time of completion.\n",
    "# Script took roughly 3 hours to complete: datetime.datetime(2024, 3, 21, 2, 44, 39, 974410)\n",
    "import datetime\n",
    "now = datetime.datetime.now()\n",
    "now"
   ]
  },
  {
   "cell_type": "code",
   "execution_count": null,
   "id": "75b955ce",
   "metadata": {},
   "outputs": [],
   "source": []
  }
 ],
 "metadata": {
  "kernelspec": {
   "display_name": "Python 3 (ipykernel)",
   "language": "python",
   "name": "python3"
  },
  "language_info": {
   "codemirror_mode": {
    "name": "ipython",
    "version": 3
   },
   "file_extension": ".py",
   "mimetype": "text/x-python",
   "name": "python",
   "nbconvert_exporter": "python",
   "pygments_lexer": "ipython3",
   "version": "3.11.5"
  }
 },
 "nbformat": 4,
 "nbformat_minor": 5
}
